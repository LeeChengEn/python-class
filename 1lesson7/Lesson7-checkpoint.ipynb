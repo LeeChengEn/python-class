{
 "cells": [
  {
   "cell_type": "code",
   "execution_count": 2,
   "metadata": {},
   "outputs": [
    {
     "name": "stdout",
     "output_type": "stream",
     "text": [
      "[]\n",
      "enter a number\n",
      "enter a color\n",
      "what is your favorite animal?\n",
      "['', '', '']\n"
     ]
    }
   ],
   "source": [
    "my_list=[]\n",
    "x=input(\"enter a number\")\n",
    "my_list.append(x)\n",
    "y=input(\"enter a color\")\n",
    "my_list.append(y)\n",
    "x=input(\"what is your favorite animal?\")\n",
    "my_list.append(x)\n",
    "print (my_list)"
   ]
  },
  {
   "cell_type": "code",
   "execution_count": 9,
   "metadata": {},
   "outputs": [
    {
     "name": "stdout",
     "output_type": "stream",
     "text": [
      "0\n",
      "enter a number0\n",
      "1\n",
      "enter a number0\n",
      "2\n",
      "enter a number0\n",
      "['0', '0', '0']\n"
     ]
    }
   ],
   "source": [
    "my_list=[]\n",
    "for i in range(3):\n",
    "    print(i)\n",
    "    x=input(\"enter a number\")\n",
    "    my_list.append(x)\n",
    "print (my_list)"
   ]
  },
  {
   "cell_type": "code",
   "execution_count": 24,
   "metadata": {},
   "outputs": [
    {
     "name": "stdout",
     "output_type": "stream",
     "text": [
      "Hello Jenny\n",
      "Hello Joyce\n",
      "Hello James\n",
      "Hello Jason\n",
      "Hello Justin\n"
     ]
    }
   ],
   "source": [
    "names=[\"Jenny\",\"Joyce\",\"James\",\"Jason\",\"Justin\"]\n",
    "for a in range(5):\n",
    "    print(\"Hello\",names[a])"
   ]
  },
  {
   "cell_type": "code",
   "execution_count": 36,
   "metadata": {},
   "outputs": [
    {
     "name": "stdout",
     "output_type": "stream",
     "text": [
      "Nice to meet you Jenny\n"
     ]
    }
   ],
   "source": [
    "names=[\"Jenny\",\"Joyce\"]\n",
    "for i in range (len(names)):\n",
    "    if names[i]==\"Jenny\":\n",
    "        print(\"Nice to meet you\",names[i])"
   ]
  },
  {
   "cell_type": "code",
   "execution_count": 41,
   "metadata": {},
   "outputs": [
    {
     "name": "stdout",
     "output_type": "stream",
     "text": [
      "enter a number3\n",
      "[0, 3, 6, 9, 12, 15, 18, 21, 24, 27]\n"
     ]
    }
   ],
   "source": [
    "x=int(input(\"enter a number\"))\n",
    "my_list=[]\n",
    "for i in range(10):\n",
    "    my_list.append(x*i)\n",
    "print(my_list)"
   ]
  },
  {
   "cell_type": "code",
   "execution_count": null,
   "metadata": {},
   "outputs": [],
   "source": []
  }
 ],
 "metadata": {
  "kernelspec": {
   "display_name": "Python 3",
   "language": "python",
   "name": "python3"
  }
 },
 "nbformat": 4,
 "nbformat_minor": 4
}
